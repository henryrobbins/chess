{
 "cells": [
  {
   "cell_type": "code",
   "execution_count": 1,
   "metadata": {},
   "outputs": [],
   "source": [
    "# initial state\n",
    "active = [('K', 'e1'),\n",
    "          ('k', 'e8'),\n",
    "          ('Q', 'd1'),\n",
    "          ('q', 'd8'),\n",
    "          ('B', 'c1'),\n",
    "          ('B', 'f1'),\n",
    "          ('b', 'c8'),\n",
    "          ('b', 'f8'),\n",
    "          ('N', 'b1'),\n",
    "          ('N', 'g1'),\n",
    "          ('n', 'b8'),\n",
    "          ('n', 'g8'),\n",
    "          ('R', 'a1'),\n",
    "          ('R', 'h1'),\n",
    "          ('r', 'a8'),\n",
    "          ('r', 'h8'),\n",
    "          ('P', 'a2'),\n",
    "          ('P', 'b2'),\n",
    "          ('P', 'c2'),\n",
    "          ('P', 'd2'),\n",
    "          ('P', 'e2'),\n",
    "          ('P', 'f2'),\n",
    "          ('P', 'g2'),\n",
    "          ('P', 'h2'),\n",
    "          ('p', 'a7'),\n",
    "          ('p', 'b7'),\n",
    "          ('p', 'c7'),\n",
    "          ('p', 'd7'),\n",
    "          ('p', 'e7'),\n",
    "          ('p', 'f7'),\n",
    "          ('p', 'g7'),\n",
    "          ('p', 'h7')]\n",
    "inactive = []"
   ]
  },
  {
   "cell_type": "code",
   "execution_count": 2,
   "metadata": {},
   "outputs": [],
   "source": [
    "with open('test.txt') as f:\n",
    "    tokens = f.read().split(' ')\n",
    "    placement, color, castle, en_passant, halfmove, fullmove = tokens"
   ]
  },
  {
   "cell_type": "code",
   "execution_count": 3,
   "metadata": {},
   "outputs": [],
   "source": [
    "active = {'K':[],'k':[],\n",
    "          'Q':[],'q':[],\n",
    "          'B':[],'b':[],\n",
    "          'N':[],'n':[],\n",
    "          'R':[],'r':[],\n",
    "          'P':[],'p':[]}\n",
    "r = 8\n",
    "for rank in placement.split('/'):\n",
    "    num_to_file = ['a','b','c','d','e','f','g','h']\n",
    "    tmp = ''.join([x if not x.isnumeric() else ' '*int(x)  for x in rank])\n",
    "    for i in range(8):\n",
    "        if tmp[i] != ' ':\n",
    "            active[tmp[i]].append(num_to_file[i] + str(r))\n",
    "    r -= 1"
   ]
  },
  {
   "cell_type": "code",
   "execution_count": 4,
   "metadata": {},
   "outputs": [
    {
     "name": "stdout",
     "output_type": "stream",
     "text": [
      "K White ['e1']\n",
      "K Black ['e8']\n",
      "Q White ['d1']\n",
      "Q Black ['d8']\n",
      "B White ['c1', 'f1']\n",
      "B Black ['c8', 'f8']\n",
      "N White ['b1', 'g1']\n",
      "N Black ['b8', 'g8']\n",
      "R White ['a1', 'h1']\n",
      "R Black ['a8', 'h8']\n",
      "P White ['e4', 'a2', 'b2', 'c2', 'd2', 'f2', 'g2', 'h2']\n",
      "P Black ['a7', 'b7', 'c7', 'd7', 'e7', 'f7', 'g7', 'h7']\n"
     ]
    }
   ],
   "source": [
    "for k,v in active.items():\n",
    "    piece_id = k.upper()\n",
    "    color = 'White' if k.isupper() else 'Black'\n",
    "    positions = v\n",
    "    # TODO: need to get has moved \n",
    "    print(piece_id, color, positions)"
   ]
  }
 ],
 "metadata": {
  "kernelspec": {
   "display_name": "Python 3",
   "language": "python",
   "name": "python3"
  },
  "language_info": {
   "codemirror_mode": {
    "name": "ipython",
    "version": 3
   },
   "file_extension": ".py",
   "mimetype": "text/x-python",
   "name": "python",
   "nbconvert_exporter": "python",
   "pygments_lexer": "ipython3",
   "version": "3.6.10"
  }
 },
 "nbformat": 4,
 "nbformat_minor": 4
}
