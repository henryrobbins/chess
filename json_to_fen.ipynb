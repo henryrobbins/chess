{
 "cells": [
  {
   "cell_type": "code",
   "execution_count": 1,
   "metadata": {},
   "outputs": [],
   "source": [
    "import numpy as np\n",
    "import pandas as pd\n",
    "import json\n",
    "import os"
   ]
  },
  {
   "cell_type": "code",
   "execution_count": 2,
   "metadata": {},
   "outputs": [],
   "source": [
    "test_FEN = \"rnbqkbnr/1ppppppp/p7/7P/8/8/PPPPPPP1/RNBQKBNR b KQkq - 0 2\"\n",
    "\n",
    "def extract_elements(string):\n",
    "    elements = string.split(' ')\n",
    "    board = elements[0]\n",
    "    rest = elements[1:]\n",
    "    return board, rest\n",
    "\n",
    "def board_by_rank(board):\n",
    "    return board.split('/')\n",
    "\n",
    "ind_to_file = {0:'a', 1:'b', 2:'c', 3:'d', 4:'e', 5:'f', 6:'g', 7:'h'}\n",
    "ind_to_rank = {0:'8', 1:'7', 2:'6', 3:'5', 4:'4', 5:'3', 6:'2', 7:'1'}\n",
    "\n",
    "board, rest = extract_elements(test_FEN)\n",
    "board = board.replace(\"1\", \"X\")\n",
    "board = board.replace(\"2\", \"XX\")\n",
    "board = board.replace(\"3\", \"XXX\")\n",
    "board = board.replace(\"4\", \"XXXX\")\n",
    "board = board.replace(\"5\", \"XXXXX\")\n",
    "board = board.replace(\"6\", \"XXXXXX\")\n",
    "board = board.replace(\"7\", \"XXXXXXX\")\n",
    "board = board.replace(\"8\", \"XXXXXXXX\")\n",
    "board = board_by_rank(board)\n",
    "\n",
    "def has_moved(piece, color, pos):\n",
    "    if (piece == 'K') and (color == 'White'):\n",
    "        starts = ['e1']\n",
    "    elif (piece == 'K') and (color == 'Black'):\n",
    "        starts = ['e8']\n",
    "    if (piece == 'Q') and (color == 'White'):\n",
    "        starts = ['d1']\n",
    "    elif (piece == 'Q') and (color == 'Black'):\n",
    "        starts = ['d8']\n",
    "    if (piece == 'R') and (color == 'White'):\n",
    "        starts = ['a1', 'h1']\n",
    "    elif (piece == 'R') and (color == 'Black'):\n",
    "        starts = ['a8', 'h8']\n",
    "    if (piece == 'N') and (color == 'White'):\n",
    "        starts = ['b1', 'g1']\n",
    "    elif (piece == 'N') and (color == 'Black'):\n",
    "        starts = ['b8', 'g8']\n",
    "    if (piece == 'B') and (color == 'White'):\n",
    "        starts = ['c1', 'f1']\n",
    "    elif (piece == 'B') and (color == 'Black'):\n",
    "        starts = ['c8', 'f8']\n",
    "    if (piece == 'P') and (color == 'White'):\n",
    "        starts = ['a2', 'b2', 'c2', 'd2', 'e2', 'f2', 'g2', 'h2']\n",
    "    elif (piece == 'P') and (color == 'Black'):\n",
    "        starts = ['a7', 'b7', 'c7', 'd7', 'e7', 'f7', 'g7', 'h7']\n",
    "        \n",
    "    return not pos in starts\n",
    "    \n",
    "pieces = []\n",
    "colors = []\n",
    "squares = []\n",
    "moved = []\n",
    "for i in range(8):\n",
    "    for j in range(8):\n",
    "        char = board[i][j]\n",
    "        if (char != \"X\"):\n",
    "            id_str = str.upper(char)\n",
    "            if (id_str == char):\n",
    "                color = 'White'\n",
    "            else:\n",
    "                color = 'Black'\n",
    "            position = ind_to_file[j] + ind_to_rank[i]\n",
    "            has_move = has_moved(id_str, color, position)\n",
    "            pieces.append(id_str)\n",
    "            colors.append(color)\n",
    "            squares.append(position)\n",
    "            moved.append(has_move)\n",
    "        \n",
    "piece_df = pd.DataFrame({'piece': pieces, 'color': colors, 'pos':squares, 'moved':moved})\n",
    "grouped_piece_df = piece_df.groupby(['piece', 'color']).agg({'pos': list, 'moved':list}).reset_index()"
   ]
  },
  {
   "cell_type": "code",
   "execution_count": 3,
   "metadata": {},
   "outputs": [],
   "source": [
    "grouped_piece_df;"
   ]
  },
  {
   "cell_type": "code",
   "execution_count": 4,
   "metadata": {},
   "outputs": [],
   "source": [
    "active_pieces = []\n",
    "for index, row in grouped_piece_df.iterrows():\n",
    "    active_pieces.append({'id': row['piece'], 'color': row['color'], 'positions': row['pos'], 'has_moved': row['moved']})"
   ]
  },
  {
   "cell_type": "code",
   "execution_count": 5,
   "metadata": {},
   "outputs": [],
   "source": [
    "active_pieces;"
   ]
  },
  {
   "cell_type": "code",
   "execution_count": 6,
   "metadata": {},
   "outputs": [],
   "source": [
    "full_json = {'active_pieces': active_pieces, 'captured_pieces' : []}\n",
    "full_json;"
   ]
  },
  {
   "cell_type": "code",
   "execution_count": 7,
   "metadata": {},
   "outputs": [],
   "source": [
    "json.dumps(full_json);"
   ]
  },
  {
   "cell_type": "code",
   "execution_count": 7,
   "metadata": {},
   "outputs": [],
   "source": [
    "with open('test_board_jsons/pawn_cant_pin.json', 'w') as f:\n",
    "    json.dump(full_json, f)"
   ]
  },
  {
   "cell_type": "code",
   "execution_count": null,
   "metadata": {},
   "outputs": [],
   "source": []
  }
 ],
 "metadata": {
  "kernelspec": {
   "display_name": "Python 3",
   "language": "python",
   "name": "python3"
  },
  "language_info": {
   "codemirror_mode": {
    "name": "ipython",
    "version": 3
   },
   "file_extension": ".py",
   "mimetype": "text/x-python",
   "name": "python",
   "nbconvert_exporter": "python",
   "pygments_lexer": "ipython3",
   "version": "3.6.10"
  }
 },
 "nbformat": 4,
 "nbformat_minor": 4
}
